{
 "cells": [
  {
   "cell_type": "markdown",
   "metadata": {},
   "source": [
    "# OpenCV 및 OCR모듈 설치 유무 확인"
   ]
  },
  {
   "cell_type": "code",
   "execution_count": 1,
   "metadata": {
    "collapsed": true
   },
   "outputs": [],
   "source": [
    "import sys\n",
    "import cv2\n",
    "import pytesseract\n",
    "from PIL import Image"
   ]
  },
  {
   "cell_type": "markdown",
   "metadata": {},
   "source": [
    "필요한 모듈들 임포트"
   ]
  },
  {
   "cell_type": "markdown",
   "metadata": {},
   "source": [
    "### Windows Project Setting\n",
    "----------------------------------\n",
    "- 윈도우에서 주석해제 (tesseract_path: tesseract설치경로 확인 후 붙여넣기)\n",
    "- tesseract_path = 'C:/Program Files (x86)/Tesseract-OCR'\n",
    "- pytesseract.pytesseract.tesseract_cmd = tesseract_path + '/tesseract'"
   ]
  },
  {
   "cell_type": "code",
   "execution_count": 2,
   "metadata": {},
   "outputs": [
    {
     "name": "stdout",
     "output_type": "stream",
     "text": [
      "python: 2.7.10 (default, Feb  6 2017, 23:53:20) \n",
      "[GCC 4.2.1 Compatible Apple LLVM 8.0.0 (clang-800.0.34)]\n",
      "opencv: 3.2.0\n",
      "pytesseract: pytesseract version 0.1.6\n"
     ]
    }
   ],
   "source": [
    "print \"python:\", sys.version\n",
    "print \"opencv:\", cv2.__version__\n",
    "print \"pytesseract:\", pytesseract.image_to_string(Image.open(\"images/test.png\"))"
   ]
  },
  {
   "cell_type": "markdown",
   "metadata": {},
   "source": [
    "프로젝트 셋팅 확인"
   ]
  }
 ],
 "metadata": {
  "kernelspec": {
   "display_name": "Python 2",
   "language": "python",
   "name": "python2"
  },
  "language_info": {
   "codemirror_mode": {
    "name": "ipython",
    "version": 2
   },
   "file_extension": ".py",
   "mimetype": "text/x-python",
   "name": "python",
   "nbconvert_exporter": "python",
   "pygments_lexer": "ipython2",
   "version": "2.7.10"
  }
 },
 "nbformat": 4,
 "nbformat_minor": 2
}
