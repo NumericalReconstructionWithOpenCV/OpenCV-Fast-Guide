{
 "cells": [
  {
   "cell_type": "markdown",
   "metadata": {},
   "source": [
    "# OpenCV - 투영변환 구현하기 (1)"
   ]
  },
  {
   "cell_type": "code",
   "execution_count": 1,
   "metadata": {
    "collapsed": true
   },
   "outputs": [],
   "source": [
    "import numpy as np\n",
    "import cv2"
   ]
  },
  {
   "cell_type": "markdown",
   "metadata": {},
   "source": [
    "필요한 모듈 임포트"
   ]
  },
  {
   "cell_type": "code",
   "execution_count": 2,
   "metadata": {
    "collapsed": true
   },
   "outputs": [],
   "source": [
    "def warp_affine():\n",
    "    img = cv2.imread('images/transform.png')\n",
    "    \n",
    "    #x , y\n",
    "    pts1 = np.float32([[50, 50], [200, 50], [20, 200]])#옮기기 전 좌표 \n",
    "    pts2 = np.float32([[70, 100], [220, 50], [150, 250]])#옮긴 후 좌표\n",
    "    \n",
    "    M = cv2.getAffineTransform(pts1, pts2)#해당 좌표만 옮겨지는게 아닌 그 주변의 좌표도 옮겨지는 매트릭스 변환\n",
    "    \n",
    "    result = cv2.warpAffine(img, M, (350, 300))#이미지, 매트릭스, 창 크기\n",
    "    \n",
    "    cv2.imshow('original', img)\n",
    "    cv2.imshow('Affine Transform', result)\n",
    "    \n",
    "    cv2.waitKey(0)\n",
    "    cv2.destroyAllWindows()\n",
    "    cv2.waitKey(1)"
   ]
  },
  {
   "cell_type": "markdown",
   "metadata": {},
   "source": [
    "- 옮길 점들 설정\n",
    "- 옮겨질 위치 점들 설정\n",
    "- 매트릭스 변환 객체 생성\n",
    "- 이미지 매트릭스 변환"
   ]
  },
  {
   "cell_type": "code",
   "execution_count": 3,
   "metadata": {
    "collapsed": true
   },
   "outputs": [],
   "source": [
    "if __name__ == '__main__':\n",
    "    warp_affine()"
   ]
  },
  {
   "cell_type": "markdown",
   "metadata": {},
   "source": [
    "함수 실행"
   ]
  }
 ],
 "metadata": {
  "kernelspec": {
   "display_name": "Python 2",
   "language": "python",
   "name": "python2"
  },
  "language_info": {
   "codemirror_mode": {
    "name": "ipython",
    "version": 2
   },
   "file_extension": ".py",
   "mimetype": "text/x-python",
   "name": "python",
   "nbconvert_exporter": "python",
   "pygments_lexer": "ipython2",
   "version": "2.7.10"
  }
 },
 "nbformat": 4,
 "nbformat_minor": 2
}
